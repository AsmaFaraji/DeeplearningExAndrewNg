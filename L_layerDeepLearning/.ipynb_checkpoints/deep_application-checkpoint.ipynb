{
 "cells": [
  {
   "cell_type": "code",
   "execution_count": 1,
   "metadata": {
    "collapsed": true
   },
   "outputs": [],
   "source": [
    "from app_utils import *\n",
    "import numpy as np\n",
    "import matplotlib.pyplot as plt"
   ]
  },
  {
   "cell_type": "code",
   "execution_count": 2,
   "metadata": {
    "collapsed": true
   },
   "outputs": [],
   "source": [
    "train_x , train_y , test_x , test_y, classes = load_data()"
   ]
  },
  {
   "cell_type": "code",
   "execution_count": 3,
   "metadata": {},
   "outputs": [
    {
     "data": {
      "image/png": "[encoded data removed]",
      "text/plain": [
       "<matplotlib.figure.Figure at 0x108ec3810>"
      ]
     },
     "metadata": {},
     "output_type": "display_data"
    },
    {
     "name": "stdout",
     "output_type": "stream",
     "text": [
      "1 cat\n"
     ]
    }
   ],
   "source": [
    "index = 7\n",
    "plt.imshow(train_x[index])\n",
    "plt.show()\n",
    "print train_y[0,index], classes[train_y[0,index]]"
   ]
  },
  {
   "cell_type": "code",
   "execution_count": 4,
   "metadata": {
    "collapsed": true
   },
   "outputs": [],
   "source": [
    "m_train = train_x.shape[0]\n",
    "num_px = train_x.shape[1]\n",
    "m_test = test_x.shape[0]"
   ]
  },
  {
   "cell_type": "code",
   "execution_count": 5,
   "metadata": {},
   "outputs": [
    {
     "name": "stdout",
     "output_type": "stream",
     "text": [
      "(209, 64, 64, 3)\n"
     ]
    }
   ],
   "source": [
    "print train_x.shape"
   ]
  },
  {
   "cell_type": "code",
   "execution_count": 6,
   "metadata": {
    "collapsed": true
   },
   "outputs": [],
   "source": [
    "#reshape the train and test set\n",
    "# -1 flatten the remaining dimensions\n",
    "train_x_flatten = train_x.reshape(209, -1).T\n",
    "test_x_flatten = test_x.reshape(50, -1).T\n",
    "# standeriza features to have value between 0 and 1\n",
    "train_flt_std = train_x_flatten / 255\n",
    "test_flt_std = test_x_flatten / 255"
   ]
  },
  {
   "cell_type": "code",
   "execution_count": null,
   "metadata": {
    "collapsed": true
   },
   "outputs": [],
   "source": [
    "#l_layer_model\n",
    "def L_Layer_Model(X, layers_dim, learning_rate, num_iteration):\n",
    "    parameters = initialize_parameters(layers_dim)\n",
    "    costs = []\n",
    "    for i in range(0, num_iteration):\n",
    "        predict , cache = L_model_forward(X = train_flt_std, parameters)\n",
    "        cost = cost_function(predict, Y=train_y)\n",
    "        grads = L_model_backwar(predict , Y=train_y, cache)\n",
    "        parameters = update_parameters(parameters, grads, learning_rate)\n",
    "        \n",
    "        if i % 100 == 0:\n",
    "            costs.append(cost)\n",
    "    plt.plot(np.squueze(costs))\n",
    "    plt.xlabel('iteration(per tens)')\n",
    "    plt.ylabel('cost')\n",
    "    plt.title(\"Learning rate =\" + str(learning_rate))\n",
    "    plt.show()\n",
    "        "
   ]
  },
  {
   "cell_type": "code",
   "execution_count": null,
   "metadata": {
    "collapsed": true
   },
   "outputs": [],
   "source": []
  }
 ],
 "metadata": {
  "kernelspec": {
   "display_name": "Python 2",
   "language": "python",
   "name": "python2"
  },
  "language_info": {
   "codemirror_mode": {
    "name": "ipython",
    "version": 2
   },
   "file_extension": ".py",
   "mimetype": "text/x-python",
   "name": "python",
   "nbconvert_exporter": "python",
   "pygments_lexer": "ipython2",
   "version": "2.7.14"
  }
 },
 "nbformat": 4,
 "nbformat_minor": 2
}
